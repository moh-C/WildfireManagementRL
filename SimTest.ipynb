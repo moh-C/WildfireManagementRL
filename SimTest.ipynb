{
 "cells": [
  {
   "cell_type": "code",
   "execution_count": null,
   "metadata": {},
   "outputs": [],
   "source": [
    "from Simulation import FireMapEnv\n",
    "import numpy as np\n",
    "\n",
    "def get_actions(size: float) -> tuple[int, int]:\n",
    "    cells = size / 3\n",
    "\n",
    "    # --- CHECKERBOARD ---\n",
    "    # if np.random.random() > 0.5:\n",
    "    #     x = 1 + 4 * np.random.randint(0, (cells - 1) // 4)\n",
    "    #     y = np.random.randint(0, cells)\n",
    "    # else:\n",
    "    #     x = np.random.randint(0, cells)\n",
    "    #     y = 1 + 4 * np.random.randint(0, (cells - 1) // 4)\n",
    "    \n",
    "    # --- BORDER ---\n",
    "    if np.random.random() > 0.5:\n",
    "        if np.random.random() > 0.5:\n",
    "            x = np.random.randint(0, cells // 8)\n",
    "            y = np.random.randint(0, cells)\n",
    "        else:\n",
    "            x = np.random.randint(7 * cells // 8, cells)\n",
    "            y = np.random.randint(0, cells)\n",
    "    else:\n",
    "        if np.random.random() > 0.5:\n",
    "            x = np.random.randint(0, cells)\n",
    "            y = np.random.randint(0, cells // 8)\n",
    "        else:\n",
    "            x = np.random.randint(0, cells)\n",
    "            y = np.random.randint(7 * cells // 8, cells)\n",
    "    \n",
    "    # --- QUADRANT ---\n",
    "    # x = np.random.randint(0, cells // 2)\n",
    "    # y = np.random.randint(0, cells // 2)\n",
    "\n",
    "    return x, y\n",
    "\n",
    "sim = FireMapEnv()\n",
    "while True:\n",
    "    sim.reset()\n",
    "    for _ in range(30):\n",
    "        for _ in range(10):\n",
    "            actions = (get_actions(90), get_actions(90), get_actions(90))\n",
    "            sim.step(actions);\n",
    "        sim.render()"
   ]
  }
 ],
 "metadata": {
  "kernelspec": {
   "display_name": "Python 3",
   "language": "python",
   "name": "python3"
  },
  "language_info": {
   "codemirror_mode": {
    "name": "ipython",
    "version": 3
   },
   "file_extension": ".py",
   "mimetype": "text/x-python",
   "name": "python",
   "nbconvert_exporter": "python",
   "pygments_lexer": "ipython3",
   "version": "3.11.8"
  }
 },
 "nbformat": 4,
 "nbformat_minor": 2
}
