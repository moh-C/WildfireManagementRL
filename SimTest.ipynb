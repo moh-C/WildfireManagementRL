{
 "cells": [
  {
   "cell_type": "code",
   "execution_count": null,
   "metadata": {},
   "outputs": [],
   "source": [
    "import numpy as np\n",
    "from Simulation import FireMapEnv\n",
    "sim = FireMapEnv()\n",
    "while True:\n",
    "    sim.reset()\n",
    "    for _ in range(30):\n",
    "        for _ in range(10):\n",
    "            actions = np.reshape(np.random.randint(0, 45/3, 6), (3,2))\n",
    "            obs, _, _, _ = sim.step(actions)\n",
    "        sim.render()"
   ]
  }
 ],
 "metadata": {
  "kernelspec": {
   "display_name": "Python 3",
   "language": "python",
   "name": "python3"
  },
  "language_info": {
   "codemirror_mode": {
    "name": "ipython",
    "version": 3
   },
   "file_extension": ".py",
   "mimetype": "text/x-python",
   "name": "python",
   "nbconvert_exporter": "python",
   "pygments_lexer": "ipython3",
   "version": "3.11.8"
  }
 },
 "nbformat": 4,
 "nbformat_minor": 2
}
