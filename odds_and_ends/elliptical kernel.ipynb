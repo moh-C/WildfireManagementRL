{
 "cells": [
  {
   "cell_type": "markdown",
   "id": "9129733b-642a-4b54-b7f9-057d0b0dccc6",
   "metadata": {},
   "source": [
    "#### forest fire\n",
    "elliptical kernel for fire spread"
   ]
  },
  {
   "cell_type": "code",
   "execution_count": 1,
   "id": "6a3c8e8c-186d-4031-8aac-d32e77d326df",
   "metadata": {},
   "outputs": [],
   "source": [
    "import numpy as np\n",
    "import matplotlib.pyplot as plt\n",
    "import scipy"
   ]
  },
  {
   "cell_type": "code",
   "execution_count": 2,
   "id": "ad3cd040-e37d-424c-9388-c7891daaa2ca",
   "metadata": {},
   "outputs": [],
   "source": [
    "def _create_rotated_distribution(mean, cov_matrix, rot_matrix):    \n",
    "    # Rotate the covariance matrix\n",
    "    rotated_cov_matrix = np.dot(rot_matrix,\n",
    "                                np.dot(cov_matrix, rot_matrix.T))\n",
    "    \n",
    "    # Create a multivariate normal distribution with the rotated covariance matrix\n",
    "    rotated_distribution = scipy.stats.multivariate_normal(mean=mean,\n",
    "                                                           cov=rotated_cov_matrix)\n",
    "    \n",
    "    return rotated_distribution\n",
    "\n",
    "def create_kernel(kernel_size, major_axis, minor_axis, center=(0, 0), angle_deg = 35):\n",
    "    if major_axis < minor_axis:\n",
    "        major_axis, minor_axis = minor_axis, major_axis\n",
    "        print('flipped axes (something went wrong!)')\n",
    "    # process angle\n",
    "    angle_rad = np.deg2rad(angle_deg)\n",
    "        \n",
    "    # define the covariance matrix\n",
    "    cov_matrix = np.array([[major_axis**2, 0], [0, minor_axis**2]])\n",
    "    \n",
    "    # find foci\n",
    "    c = np.sqrt(major_axis**2 - minor_axis**2)\n",
    "    focus = [c,0]\n",
    "    \n",
    "    # define the rotation matrix \n",
    "    rotation_matrix = np.array([[np.cos(angle_rad), -np.sin(angle_rad)],\n",
    "                                [np.sin(angle_rad), np.cos(angle_rad)]])\n",
    "    \n",
    "    # rotate the foci and covariance matrix\n",
    "    rotated_focus = np.dot(rotation_matrix,focus)\n",
    "    rotated_distribution = _create_rotated_distribution(mean = rotated_focus,\n",
    "                                                       cov_matrix = cov_matrix,\n",
    "                                                       rot_matrix = rotation_matrix)\n",
    "    \n",
    "    # sample from the rotated distribution at kernel positions\n",
    "    x, y = np.meshgrid(np.linspace(-2, 2, kernel_size),\n",
    "                       np.linspace(-2, 2, kernel_size))\n",
    "    pos = np.dstack((x, y))\n",
    "    ellipse = rotated_distribution.pdf(pos)\n",
    "    \n",
    "    # Normalize the ellipse\n",
    "    ellipse /= np.max(ellipse)\n",
    "        \n",
    "    return ellipse\n",
    "    "
   ]
  },
  {
   "cell_type": "code",
   "execution_count": 3,
   "id": "fc7172a2-f26d-4c74-b794-930bfa283738",
   "metadata": {},
   "outputs": [
    {
     "name": "stdout",
     "output_type": "stream",
     "text": [
      "total_wind = 1.118033988749895\n",
      "wind_angle = 26.56505117707799 (degrees)\n"
     ]
    }
   ],
   "source": [
    "''' development '''\n",
    "# ---- main inputs ----\n",
    "# wind components: values between -1 and 1 make sense here\n",
    "windx = 1\n",
    "windy = 0.5\n",
    "\n",
    "# intensity: scales the convolution afterward. values between 0 and 1.\n",
    "intensity = 0.3\n",
    "# kernel size: make this large to see a high resolution ellipse.\n",
    "size = 9\n",
    "\n",
    "\n",
    "\n",
    "# ---- derived values ----\n",
    "total_wind = np.sqrt(windx**2 + windy**2)\n",
    "wind_angle = np.rad2deg(np.arctan2(windy, windx))\n",
    "print(f'{total_wind = }')\n",
    "print(f'{wind_angle = } (degrees)')\n",
    "\n",
    "# major and minor axes are lines with intercept based on intensity\n",
    "# (these parameters will need tuning)\n",
    "# intercept\n",
    "_intensity_bonus = intensity * 0.5\n",
    "_basic_axis = 0.2 + _intensity_bonus\n",
    "# slopes increase axes proportional to total wind\n",
    "_major_slope = 0.3\n",
    "_minor_slope = 0.1\n",
    "major_axis = _basic_axis + _major_slope * total_wind\n",
    "minor_axis = _basic_axis + _minor_slope * total_wind\n",
    "\n",
    "# ---- create kernel ---- \n",
    "kernel = create_kernel(size,\n",
    "                       major_axis,\n",
    "                       minor_axis,\n",
    "                       angle_deg = wind_angle) * intensity\n"
   ]
  },
  {
   "cell_type": "code",
   "execution_count": 4,
   "id": "cca7ef12-659f-4ea6-a22e-ec0e2f5036a1",
   "metadata": {},
   "outputs": [
    {
     "data": {
      "image/png": "[encoded data removed]",
      "text/plain": [
       "<Figure size 432x288 with 2 Axes>"
      ]
     },
     "metadata": {
      "needs_background": "light"
     },
     "output_type": "display_data"
    }
   ],
   "source": [
    "# ---- visualize kernel ---- \n",
    "plt.imshow(kernel,origin='lower')\n",
    "# indicate center\n",
    "plt.axvline(size//2,c='r',ls='--',alpha=0.4)\n",
    "plt.axhline(size//2,c='r',ls='--',alpha=0.4)\n",
    "# indicate wind direction\n",
    "plt.arrow(x = size//2,\n",
    "          y = size//2,\n",
    "          dx = np.cos(np.deg2rad(wind_angle)),\n",
    "          dy = np.sin(np.deg2rad(wind_angle)),\n",
    "          head_width = 0.2,\n",
    "          color='r')\n",
    "plt.colorbar();\n"
   ]
  },
  {
   "cell_type": "code",
   "execution_count": 10,
   "id": "c1506db7-4e58-4353-8b2b-11f2e81965f2",
   "metadata": {},
   "outputs": [],
   "source": [
    "\n",
    "def complete_process(windx, windy, intensity, kernel_size = 9):\n",
    "    # ---- derived values ----\n",
    "    total_wind = np.sqrt(windx**2 + windy**2)\n",
    "    wind_angle = np.rad2deg(np.arctan2(windy, windx))\n",
    "\n",
    "    # lines\n",
    "    _intensity_bonus = intensity * 0.5\n",
    "    _basic_axis = 0.2 + _intensity_bonus\n",
    "    # slopes increase axes proportional to total wind\n",
    "    _major_slope = 0.3\n",
    "    _minor_slope = 0.1\n",
    "    major_axis = _basic_axis + _major_slope * total_wind\n",
    "    minor_axis = _basic_axis + _minor_slope * total_wind\n",
    "\n",
    "    # ---- create kernel ---- \n",
    "    return create_kernel(size, major_axis, minor_axis, angle_deg = wind_angle) * intensity\n"
   ]
  },
  {
   "cell_type": "code",
   "execution_count": 14,
   "id": "db3b0501-8417-4956-8347-c9eca143557d",
   "metadata": {},
   "outputs": [
    {
     "data": {
      "text/plain": [
       "<matplotlib.colorbar.Colorbar at 0x7fce1ec99d00>"
      ]
     },
     "execution_count": 14,
     "metadata": {},
     "output_type": "execute_result"
    },
    {
     "data": {
      "image/png": "[encoded data removed]",
      "text/plain": [
       "<Figure size 432x288 with 2 Axes>"
      ]
     },
     "metadata": {
      "needs_background": "light"
     },
     "output_type": "display_data"
    }
   ],
   "source": [
    "# ---- quickly make and visualize ----\n",
    "plt.imshow(complete_process(windx = -0.3, # -1 to 1\n",
    "                            windy = 0.2,  # -1 to 1\n",
    "                            intensity = 0.3),\n",
    "          origin='lower')\n",
    "plt.colorbar()"
   ]
  },
  {
   "cell_type": "markdown",
   "id": "2038501e-7643-4390-8511-c8e8d57bfaa0",
   "metadata": {},
   "source": [
    "\n",
    "problem: the kernel incorporates intensity, so convolutions are not simple.\n",
    "\n",
    "if intensities are discretized, you can make one kernel per intensity level and convolve. this would result in N convolved maps, which can be summed down to a single one."
   ]
  },
  {
   "cell_type": "code",
   "execution_count": null,
   "id": "6ba9e850-f56d-4afe-b881-dc76b9a06b4a",
   "metadata": {},
   "outputs": [],
   "source": []
  }
 ],
 "metadata": {
  "kernelspec": {
   "display_name": "Python 3 (ipykernel)",
   "language": "python",
   "name": "python3"
  },
  "language_info": {
   "codemirror_mode": {
    "name": "ipython",
    "version": 3
   },
   "file_extension": ".py",
   "mimetype": "text/x-python",
   "name": "python",
   "nbconvert_exporter": "python",
   "pygments_lexer": "ipython3",
   "version": "3.9.7"
  }
 },
 "nbformat": 4,
 "nbformat_minor": 5
}
