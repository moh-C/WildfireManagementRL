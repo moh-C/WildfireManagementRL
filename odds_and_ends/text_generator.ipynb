{
 "cells": [
  {
   "cell_type": "code",
   "execution_count": 16,
   "metadata": {},
   "outputs": [
    {
     "name": "stderr",
     "output_type": "stream",
     "text": [
      "C:\\Users\\n8tew\\AppData\\Local\\Temp\\ipykernel_11248\\817470288.py:25: DeprecationWarning: textsize is deprecated and will be removed in Pillow 10 (2023-07-01). Use textbbox or textlength instead.\n",
      "  text_width, text_height = draw.textsize(text, font=font)\n"
     ]
    },
    {
     "data": {
      "image/png": "[encoded data removed]",
      "text/plain": [
       "<Figure size 640x480 with 1 Axes>"
      ]
     },
     "metadata": {},
     "output_type": "display_data"
    }
   ],
   "source": [
    "import numpy as np\n",
    "import matplotlib.pyplot as plt\n",
    "from PIL import Image, ImageDraw, ImageFont\n",
    "\n",
    "def text_to_array(text, font_path, size=(30, 30)):\n",
    "    \"\"\"\n",
    "    Generate a low-resolution binary 2D array representing the given text.\n",
    "\n",
    "    Args:\n",
    "    - text (str): Text to render into the array.\n",
    "    - font_path (str): Path to the .ttf font file.\n",
    "    - size (tuple): Desired size of the output array (width, height).\n",
    "\n",
    "    Returns:\n",
    "    - np.array: 2D binary array representing the rendered text.\n",
    "    \"\"\"\n",
    "    # Create a blank image with white background\n",
    "    image = Image.new('RGB', size, \"white\")\n",
    "    draw = ImageDraw.Draw(image)\n",
    "    \n",
    "    # Load a font\n",
    "    font = ImageFont.truetype(font_path, 11)\n",
    "\n",
    "    # Calculate text width and height\n",
    "    text_width, text_height = draw.textsize(text, font=font)\n",
    "    \n",
    "    # Calculate position to center the text\n",
    "    position = ((size[0]-text_width)/2, (size[1]-text_height)/4)\n",
    "    \n",
    "    # Draw the text onto the image\n",
    "    draw.text(position, text, fill=\"black\", font=font)\n",
    "    \n",
    "    # Convert to grayscale\n",
    "    grayscale_image = image.convert(\"L\")\n",
    "    \n",
    "    # Convert to binary (0 or 1) using a threshold\n",
    "    # binary_image = grayscale_image.point(lambda x: 0 if x>128 else 1, '1')\n",
    "    \n",
    "    # Convert to NumPy array\n",
    "    array = np.array(grayscale_image, dtype=np.uint8)\n",
    "\n",
    "    return array\n",
    "\n",
    "# Example usage\n",
    "# Replace 'path/to/font.ttf' with the actual path to a font file on your system\n",
    "text_array = text_to_array(\"UVIC\\n...AI...\", \"font.ttf\")\n",
    "plt.imshow(text_array)\n",
    "plt.show()\n",
    "# print(text_array)\n",
    "\n",
    "# Note: You need to specify the path to a font file on your system for the `font_path` parameter.\n",
    "# The font size and position calculation in this example are quite basic; adjustments might be needed\n",
    "# for optimal text placement and readability.\n"
   ]
  }
 ],
 "metadata": {
  "kernelspec": {
   "display_name": "Python 3",
   "language": "python",
   "name": "python3"
  },
  "language_info": {
   "codemirror_mode": {
    "name": "ipython",
    "version": 3
   },
   "file_extension": ".py",
   "mimetype": "text/x-python",
   "name": "python",
   "nbconvert_exporter": "python",
   "pygments_lexer": "ipython3",
   "version": "3.11.8"
  }
 },
 "nbformat": 4,
 "nbformat_minor": 2
}
