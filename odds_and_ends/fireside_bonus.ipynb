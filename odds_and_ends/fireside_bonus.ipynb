{
 "cells": [
  {
   "cell_type": "code",
   "execution_count": 1,
   "id": "8fb3141c-9f8a-4bf4-9a0c-1761052264e7",
   "metadata": {},
   "outputs": [],
   "source": [
    "import numpy as np\n",
    "from scipy.signal import convolve2d\n",
    "#from kernels import IntensityKernel\n",
    "\n",
    "import matplotlib.pyplot as plt\n",
    "import matplotlib.colors as mcolors\n",
    "import scipy\n",
    "\n",
    "INTENSITY = 0"
   ]
  },
  {
   "cell_type": "code",
   "execution_count": 2,
   "id": "104a73f9-b08f-4eb2-8834-9b6bbf191ffc",
   "metadata": {},
   "outputs": [],
   "source": [
    "pretend_map = np.zeros((90,90,8))\n",
    "pretend_map[15,10,0] = 1\n",
    "pretend_map[25,44,0] = 1\n",
    "pretend_map[15,34,0] = 1\n",
    "    \n",
    "def np_maxpool2D(mat: np.array, pool=3) -> np.array:\n",
    "    ''' preserves the channels layer '''\n",
    "    M, N,channels = mat.shape\n",
    "    K = L = pool\n",
    "    MK = M // K\n",
    "    NL = N // L\n",
    "    return mat[:MK*K, :NL*L].reshape(MK, K, NL, L, channels).max(axis=(1, 3))\n",
    "\n",
    "def random_action():\n",
    "    temp = np.random.randint(30,size=6)\n",
    "    return list(zip(temp[:3], temp[3:]))"
   ]
  },
  {
   "cell_type": "code",
   "execution_count": 3,
   "id": "14a0b6dc-0e16-43b3-b5d8-4381e4ff57fc",
   "metadata": {},
   "outputs": [],
   "source": [
    "def calc_fireside_bonus(obs, actions) -> float:\n",
    "    # TODO: stitch this into the existing work\n",
    "    # \"obs\" is the full state (intensity is extracted in this function)\n",
    "    # actions is a list of tuples\n",
    "    \n",
    "    ''' --- euc distance --- '''\n",
    "    # calculate euclidean distance (first panel)\n",
    "    x, y = np.meshgrid(np.linspace(-15, 15, 30),\n",
    "                       np.linspace(-15, 15, 30))\n",
    "    pos = np.dstack((x, y))\n",
    "    # euc distances for all points in mesh\n",
    "    euc_distance_clipped = np.clip(np.linalg.norm(pos,axis=2)-10,0,20)\n",
    "    \n",
    "    ''' --- dilation mask --- '''\n",
    "    if obs.shape[0] == 90:\n",
    "        obs = np_maxpool2D(obs,pool=3)\n",
    "\n",
    "    # why are there negative intensities?\n",
    "    fires_clipped = np.clip(obs[:,:,INTENSITY],a_min=0,a_max=1) > 0\n",
    "    dilation_mask = scipy.ndimage.binary_dilation(fires_clipped, iterations=2)\n",
    "\n",
    "    ''' --- remove \"on-fire\" --- '''\n",
    "    fire_removed = dilation_mask.astype(int) - (obs[:,:,INTENSITY] > 0)\n",
    "    \n",
    "    ''' --- intersection --- '''\n",
    "    fireside_available = euc_distance_clipped * fire_removed\n",
    "    \n",
    "    ''' --- bonus based on action --- '''\n",
    "    bonus = 0\n",
    "    for _x, _y in actions:\n",
    "        bonus += fireside_available[_x,_y]\n",
    "    return bonus"
   ]
  },
  {
   "cell_type": "code",
   "execution_count": 4,
   "id": "d61107cc-9e64-4256-a84c-5f613dd8f20d",
   "metadata": {},
   "outputs": [
    {
     "data": {
      "text/plain": [
       "6.887752811015009"
      ]
     },
     "execution_count": 4,
     "metadata": {},
     "output_type": "execute_result"
    }
   ],
   "source": [
    "pretend_actions = random_action()\n",
    "pretend_actions[0] = (4,2)\n",
    "\n",
    "calc_fireside_bonus(obs = pretend_map, actions = pretend_actions)"
   ]
  },
  {
   "cell_type": "code",
   "execution_count": 5,
   "id": "30902141-d988-4f32-83bf-d06ba710b0be",
   "metadata": {},
   "outputs": [
    {
     "data": {
      "text/plain": [
       "<matplotlib.collections.PathCollection at 0x7f8c7271afd0>"
      ]
     },
     "execution_count": 5,
     "metadata": {},
     "output_type": "execute_result"
    },
    {
     "data": {
      "image/png": "[encoded data removed]",
      "text/plain": [
       "<Figure size 1008x216 with 8 Axes>"
      ]
     },
     "metadata": {
      "needs_background": "light"
     },
     "output_type": "display_data"
    }
   ],
   "source": [
    "def fireside_vis(obs):\n",
    "    fig,ax = plt.subplots(1,4,figsize=(14,3))\n",
    "    \n",
    "    ''' --- euc distance --- '''\n",
    "    # calculate euclidean distance (first panel)\n",
    "    x, y = np.meshgrid(np.linspace(-15, 15, 30),\n",
    "                       np.linspace(-15, 15, 30))\n",
    "    pos = np.dstack((x, y))\n",
    "    # euc distances for all points in mesh\n",
    "    euc_distance_clipped = np.clip(np.linalg.norm(pos,axis=2)-10,0,20)\n",
    "    panel = ax[0].imshow(euc_distance_clipped.T,origin='lower')\n",
    "    plt.colorbar(panel,ax=ax[0])\n",
    "    ax[0].set_title('distance to center')\n",
    "    \n",
    "    ''' --- dilation mask --- '''\n",
    "    if obs.shape[0] == 90:\n",
    "        obs = np_maxpool2D(obs,pool=3)\n",
    "        \n",
    "    # why are there negative intensities?\n",
    "    fires_clipped = np.clip(obs[:,:,INTENSITY],a_min=0,a_max=1) > 0\n",
    "    dilation_mask = scipy.ndimage.binary_dilation(fires_clipped, iterations=2)\n",
    "    panel = ax[1].imshow(dilation_mask.T,origin='lower')\n",
    "    plt.colorbar(panel,ax=ax[1])\n",
    "    ax[1].set_title('fire location mask')\n",
    "    \n",
    "    ''' --- remove on-fire --- '''\n",
    "    fire_removed = dilation_mask.astype(int) - obs[:,:,INTENSITY]\n",
    "    panel = ax[2].imshow(fire_removed.T,origin='lower')\n",
    "    plt.colorbar(panel,ax=ax[2])\n",
    "    ax[2].set_title('remove fire locations')\n",
    "    \n",
    "    ''' --- intersection --- '''\n",
    "    fireside_available = euc_distance_clipped * fire_removed\n",
    "    panel = ax[3].imshow(fireside_available.T,origin='lower')\n",
    "    plt.colorbar(panel,ax=ax[3])\n",
    "    ax[3].set_title('action bonus')\n",
    "    \n",
    "fireside_vis(pretend_map)\n",
    "\n",
    "# visualize location of actions\n",
    "plt.scatter(*np.array(pretend_actions).T,c='r')"
   ]
  },
  {
   "cell_type": "code",
   "execution_count": null,
   "id": "6e784a3c-5a02-4eae-a26d-b992b709108d",
   "metadata": {},
   "outputs": [],
   "source": []
  },
  {
   "cell_type": "code",
   "execution_count": null,
   "id": "f8378e18-98a9-46d0-b0a3-bb9dbaf40997",
   "metadata": {},
   "outputs": [],
   "source": []
  },
  {
   "cell_type": "code",
   "execution_count": null,
   "id": "09968d07-ee53-4b96-8b9b-e4ac4edffee9",
   "metadata": {},
   "outputs": [],
   "source": []
  }
 ],
 "metadata": {
  "kernelspec": {
   "display_name": "Python 3 (ipykernel)",
   "language": "python",
   "name": "python3"
  },
  "language_info": {
   "codemirror_mode": {
    "name": "ipython",
    "version": 3
   },
   "file_extension": ".py",
   "mimetype": "text/x-python",
   "name": "python",
   "nbconvert_exporter": "python",
   "pygments_lexer": "ipython3",
   "version": "3.9.7"
  }
 },
 "nbformat": 4,
 "nbformat_minor": 5
}
