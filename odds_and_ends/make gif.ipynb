{
 "cells": [
  {
   "cell_type": "code",
   "execution_count": 1,
   "id": "670a2965-e1cf-4f92-b4f7-664097836486",
   "metadata": {},
   "outputs": [],
   "source": [
    "# this notebook demonstrates the method of making a gif\n",
    "\n",
    "import numpy as np\n",
    "import matplotlib.pyplot as plt\n",
    "from tqdm import tqdm\n",
    "import imageio\n",
    "from glob import glob"
   ]
  },
  {
   "cell_type": "code",
   "execution_count": 2,
   "id": "9cbe2151-361d-4a0c-b096-1b080ce4cc18",
   "metadata": {},
   "outputs": [],
   "source": [
    "folder_path = '/Users/Finn/desktop/facing_dir'"
   ]
  },
  {
   "cell_type": "code",
   "execution_count": 3,
   "id": "0ba6a862-3319-406d-a104-fc9d76f801d8",
   "metadata": {},
   "outputs": [
    {
     "name": "stderr",
     "output_type": "stream",
     "text": [
      "46it [00:17,  2.57it/s]"
     ]
    },
    {
     "name": "stdout",
     "output_type": "stream",
     "text": [
      "done!\n"
     ]
    },
    {
     "name": "stderr",
     "output_type": "stream",
     "text": [
      "\n"
     ]
    }
   ],
   "source": [
    "''' --- some visualization function--- '''\n",
    "def relative_position():\n",
    "    # fib ratio to 180? gotta be something\n",
    "    breakup = np.array([2,2,2,2,2,2,2,3,5,8,10])\n",
    "    breakup_angles = breakup/breakup.sum() * 180\n",
    "\n",
    "    # discetization spaces\n",
    "    cutoffs = np.cumsum(breakup_angles)\n",
    "    cutoffs = np.round(np.concatenate([cutoffs, -cutoffs[:-1], np.array([0])]),3)\n",
    "    cutoffs.sort()\n",
    "    return cutoffs\n",
    "rp_angles = relative_position()\n",
    "\n",
    "''' --- loop through creation of figures --- '''\n",
    "for angle_idx, angle_offset in tqdm(enumerate(np.concatenate([np.arange(0,45,2), np.arange(0,45,2)[::-1]]))):\n",
    "\n",
    "    ''' --- define figure --- '''\n",
    "    plt.figure(figsize=(8,8))\n",
    "    \n",
    "    ''' --- fill figure (with whatever) --- '''\n",
    "    plt.axvline(0,ls='--',c='k')\n",
    "    plt.axhline(0,ls='--',c='k')\n",
    "    for idx, _angle in enumerate(rp_angles):\n",
    "        plt.plot([0,np.cos(np.deg2rad(_angle+angle_offset))],\n",
    "                 [0,np.sin(np.deg2rad(_angle+angle_offset))],\n",
    "                 c='tab:blue', marker ='.')\n",
    "        plt.grid()\n",
    "\n",
    "    plt.scatter(0,0,c='r',s=100, zorder=10)\n",
    "    plt.plot([0,np.cos(np.deg2rad(angle_offset))*0.25],\n",
    "             [0,np.sin(np.deg2rad(angle_offset))*0.25],\n",
    "             c='r',linewidth=4, label='facing angle')\n",
    "    plt.legend()\n",
    "    for i in np.linspace(-1,1,9):\n",
    "        plt.axvline(i,c='k',alpha=0.2)\n",
    "        plt.axhline(i,c='k',alpha=0.2)\n",
    "    plt.xticks([])\n",
    "    plt.yticks([])\n",
    "    plt.xlim(-1.1,1.1)\n",
    "    plt.ylim(-1.1,1.1)\n",
    "    plt.legend()\n",
    "    \n",
    "    ''' --- save figure and close figure (ie, don't show it) --- '''\n",
    "    # save with padding\n",
    "    plt.savefig(f'{folder_path}/{angle_idx:04}.png')\n",
    "    plt.close()\n",
    "    \n",
    "print('done!')"
   ]
  },
  {
   "cell_type": "code",
   "execution_count": 6,
   "id": "ddd618d6-faf9-47a5-a8c5-6837afaf3ac4",
   "metadata": {},
   "outputs": [
    {
     "name": "stderr",
     "output_type": "stream",
     "text": [
      "  0%|                                                    | 0/46 [00:00<?, ?it/s]/var/folders/tn/9tq725tx3bj46cw90w451p_r0000gp/T/ipykernel_1401/216632791.py:8: DeprecationWarning: Starting with ImageIO v3 the behavior of this function will switch to that of iio.v3.imread. To keep the current behavior (and make this warning disappear) use `import imageio.v2 as imageio` or call `imageio.v2.imread` directly.\n",
      "  stills_list.append(imageio.imread(_path))\n",
      "100%|███████████████████████████████████████████| 46/46 [00:00<00:00, 52.15it/s]\n"
     ]
    },
    {
     "name": "stdout",
     "output_type": "stream",
     "text": [
      "done\n"
     ]
    }
   ],
   "source": [
    "\n",
    "''' --- select all images in a folder --- '''\n",
    "image_paths = glob(f'{folder_path}/*.png')\n",
    "image_paths.sort()\n",
    "\n",
    "''' --- load each still image --- '''\n",
    "stills_list=list()\n",
    "for _path in tqdm(image_paths):\n",
    "    stills_list.append(imageio.imread(_path))\n",
    "\n",
    "''' compile into gif (save into same folder) --- '''\n",
    "imageio.mimsave(f'{folder_path}/*top.gif', stills_list, duration=0.001)\n",
    "\n",
    "print('done')\n"
   ]
  },
  {
   "cell_type": "code",
   "execution_count": null,
   "id": "5775fb72-769b-4b73-ad18-17a1404d9323",
   "metadata": {},
   "outputs": [],
   "source": []
  }
 ],
 "metadata": {
  "kernelspec": {
   "display_name": "Python 3 (ipykernel)",
   "language": "python",
   "name": "python3"
  },
  "language_info": {
   "codemirror_mode": {
    "name": "ipython",
    "version": 3
   },
   "file_extension": ".py",
   "mimetype": "text/x-python",
   "name": "python",
   "nbconvert_exporter": "python",
   "pygments_lexer": "ipython3",
   "version": "3.9.7"
  }
 },
 "nbformat": 4,
 "nbformat_minor": 5
}
